{
 "cells": [
  {
   "cell_type": "code",
   "execution_count": 2,
   "metadata": {},
   "outputs": [
    {
     "name": "stderr",
     "output_type": "stream",
     "text": [
      "/Library/Frameworks/Python.framework/Versions/3.12/lib/python3.12/site-packages/tqdm/auto.py:21: TqdmWarning: IProgress not found. Please update jupyter and ipywidgets. See https://ipywidgets.readthedocs.io/en/stable/user_install.html\n",
      "  from .autonotebook import tqdm as notebook_tqdm\n"
     ]
    }
   ],
   "source": [
    "import pandas as pd\n",
    "from transformers import AutoTokenizer, AutoModelForSequenceClassification\n",
    "import torch\n",
    "from torch.nn.functional import softmax"
   ]
  },
  {
   "cell_type": "code",
   "execution_count": 3,
   "metadata": {},
   "outputs": [],
   "source": [
    "df = pd.read_csv(\"/Users/charulagnihotri/Documents/projects/fintech_breakthrough/data/reddit_cleaned.csv\")"
   ]
  },
  {
   "cell_type": "code",
   "execution_count": 4,
   "metadata": {},
   "outputs": [
    {
     "data": {
      "text/plain": [
       "score             230\n",
       "timestamp         230\n",
       "date              230\n",
       "text              230\n",
       "clean_text        230\n",
       "processed_text    230\n",
       "dtype: int64"
      ]
     },
     "execution_count": 4,
     "metadata": {},
     "output_type": "execute_result"
    }
   ],
   "source": [
    "df.count()"
   ]
  },
  {
   "cell_type": "code",
   "execution_count": 5,
   "metadata": {},
   "outputs": [
    {
     "data": {
      "text/html": [
       "<div>\n",
       "<style scoped>\n",
       "    .dataframe tbody tr th:only-of-type {\n",
       "        vertical-align: middle;\n",
       "    }\n",
       "\n",
       "    .dataframe tbody tr th {\n",
       "        vertical-align: top;\n",
       "    }\n",
       "\n",
       "    .dataframe thead th {\n",
       "        text-align: right;\n",
       "    }\n",
       "</style>\n",
       "<table border=\"1\" class=\"dataframe\">\n",
       "  <thead>\n",
       "    <tr style=\"text-align: right;\">\n",
       "      <th></th>\n",
       "      <th>score</th>\n",
       "      <th>timestamp</th>\n",
       "      <th>date</th>\n",
       "      <th>text</th>\n",
       "      <th>clean_text</th>\n",
       "      <th>processed_text</th>\n",
       "    </tr>\n",
       "  </thead>\n",
       "  <tbody>\n",
       "    <tr>\n",
       "      <th>0</th>\n",
       "      <td>148</td>\n",
       "      <td>1.737167e+09</td>\n",
       "      <td>2025-01-18</td>\n",
       "      <td>Be honest, did I miss the XRP boat? Last time ...</td>\n",
       "      <td>be honest did i miss the xrp boat last time i ...</td>\n",
       "      <td>honest miss xrp boat last time made money cryp...</td>\n",
       "    </tr>\n",
       "    <tr>\n",
       "      <th>1</th>\n",
       "      <td>310</td>\n",
       "      <td>1.719818e+09</td>\n",
       "      <td>2024-07-01</td>\n",
       "      <td>Convince me that Ripple (XRP) is not a Ponzi S...</td>\n",
       "      <td>convince me that ripple xrp is not a ponzi sch...</td>\n",
       "      <td>convince ripple xrp ponzi scheme big player cr...</td>\n",
       "    </tr>\n",
       "    <tr>\n",
       "      <th>2</th>\n",
       "      <td>1867</td>\n",
       "      <td>1.734628e+09</td>\n",
       "      <td>2024-12-19</td>\n",
       "      <td>$7 billion wiped from XRP in a day</td>\n",
       "      <td>billion wiped from xrp in a day</td>\n",
       "      <td>billion wiped xrp day</td>\n",
       "    </tr>\n",
       "    <tr>\n",
       "      <th>3</th>\n",
       "      <td>3486</td>\n",
       "      <td>1.689263e+09</td>\n",
       "      <td>2023-07-13</td>\n",
       "      <td>US judge just ruled XRP is not a security http...</td>\n",
       "      <td>us judge just ruled xrp is not a security \\n\\n...</td>\n",
       "      <td>u judge ruled xrp security u judge rule ripple...</td>\n",
       "    </tr>\n",
       "    <tr>\n",
       "      <th>4</th>\n",
       "      <td>668</td>\n",
       "      <td>1.740932e+09</td>\n",
       "      <td>2025-03-02</td>\n",
       "      <td>Crypto Strategic Reserve will include XRP, SOL...</td>\n",
       "      <td>crypto strategic reserve will include xrp sol ...</td>\n",
       "      <td>crypto strategic reserve include xrp sol ada</td>\n",
       "    </tr>\n",
       "  </tbody>\n",
       "</table>\n",
       "</div>"
      ],
      "text/plain": [
       "   score     timestamp        date  \\\n",
       "0    148  1.737167e+09  2025-01-18   \n",
       "1    310  1.719818e+09  2024-07-01   \n",
       "2   1867  1.734628e+09  2024-12-19   \n",
       "3   3486  1.689263e+09  2023-07-13   \n",
       "4    668  1.740932e+09  2025-03-02   \n",
       "\n",
       "                                                text  \\\n",
       "0  Be honest, did I miss the XRP boat? Last time ...   \n",
       "1  Convince me that Ripple (XRP) is not a Ponzi S...   \n",
       "2                $7 billion wiped from XRP in a day    \n",
       "3  US judge just ruled XRP is not a security http...   \n",
       "4  Crypto Strategic Reserve will include XRP, SOL...   \n",
       "\n",
       "                                          clean_text  \\\n",
       "0  be honest did i miss the xrp boat last time i ...   \n",
       "1  convince me that ripple xrp is not a ponzi sch...   \n",
       "2                   billion wiped from xrp in a day    \n",
       "3  us judge just ruled xrp is not a security \\n\\n...   \n",
       "4  crypto strategic reserve will include xrp sol ...   \n",
       "\n",
       "                                      processed_text  \n",
       "0  honest miss xrp boat last time made money cryp...  \n",
       "1  convince ripple xrp ponzi scheme big player cr...  \n",
       "2                              billion wiped xrp day  \n",
       "3  u judge ruled xrp security u judge rule ripple...  \n",
       "4       crypto strategic reserve include xrp sol ada  "
      ]
     },
     "execution_count": 5,
     "metadata": {},
     "output_type": "execute_result"
    }
   ],
   "source": [
    "df.head()"
   ]
  },
  {
   "cell_type": "code",
   "execution_count": 6,
   "metadata": {},
   "outputs": [
    {
     "name": "stderr",
     "output_type": "stream",
     "text": [
      "/Library/Frameworks/Python.framework/Versions/3.12/lib/python3.12/site-packages/transformers/tokenization_utils_base.py:1601: FutureWarning: `clean_up_tokenization_spaces` was not set. It will be set to `True` by default. This behavior will be depracted in transformers v4.45, and will be then set to `False` by default. For more details check this issue: https://github.com/huggingface/transformers/issues/31884\n",
      "  warnings.warn(\n"
     ]
    }
   ],
   "source": [
    "# Load FinBERT tokenizer & model\n",
    "tokenizer = AutoTokenizer.from_pretrained(\"ProsusAI/finbert\")\n",
    "model = AutoModelForSequenceClassification.from_pretrained(\"ProsusAI/finbert\")"
   ]
  },
  {
   "cell_type": "code",
   "execution_count": 7,
   "metadata": {},
   "outputs": [],
   "source": [
    "\n",
    "def get_sentiment(text):\n",
    "    inputs = tokenizer(text, return_tensors=\"pt\", truncation=True, padding=True, max_length=512)\n",
    "    outputs = model(**inputs)  # Get raw logits\n",
    "    probs = softmax(outputs.logits, dim=1)  # Convert logits to probabilities\n",
    "    \n",
    "    labels = [\"Negative\", \"Neutral\", \"Positive\"]\n",
    "    sentiment = labels[torch.argmax(probs)]  # Get the highest probability label\n",
    "    return sentiment"
   ]
  },
  {
   "cell_type": "code",
   "execution_count": 8,
   "metadata": {},
   "outputs": [],
   "source": [
    "df[\"sentiment\"] = df[\"processed_text\"].apply(get_sentiment)"
   ]
  },
  {
   "cell_type": "code",
   "execution_count": 19,
   "metadata": {},
   "outputs": [
    {
     "name": "stdout",
     "output_type": "stream",
     "text": [
      "✅ Sentiment analysis completed and saved to reddit_sentiment.csv\n"
     ]
    }
   ],
   "source": [
    "df.to_csv(\"reddit_sentiment.csv\", index=False)\n",
    "print(\"✅ Sentiment analysis completed and saved to reddit_sentiment.csv\")"
   ]
  },
  {
   "cell_type": "code",
   "execution_count": 10,
   "metadata": {},
   "outputs": [
    {
     "data": {
      "text/html": [
       "<div>\n",
       "<style scoped>\n",
       "    .dataframe tbody tr th:only-of-type {\n",
       "        vertical-align: middle;\n",
       "    }\n",
       "\n",
       "    .dataframe tbody tr th {\n",
       "        vertical-align: top;\n",
       "    }\n",
       "\n",
       "    .dataframe thead th {\n",
       "        text-align: right;\n",
       "    }\n",
       "</style>\n",
       "<table border=\"1\" class=\"dataframe\">\n",
       "  <thead>\n",
       "    <tr style=\"text-align: right;\">\n",
       "      <th></th>\n",
       "      <th>score</th>\n",
       "      <th>timestamp</th>\n",
       "      <th>date</th>\n",
       "      <th>text</th>\n",
       "      <th>clean_text</th>\n",
       "      <th>processed_text</th>\n",
       "      <th>sentiment</th>\n",
       "    </tr>\n",
       "  </thead>\n",
       "  <tbody>\n",
       "    <tr>\n",
       "      <th>0</th>\n",
       "      <td>148</td>\n",
       "      <td>1.737167e+09</td>\n",
       "      <td>2025-01-18</td>\n",
       "      <td>Be honest, did I miss the XRP boat? Last time ...</td>\n",
       "      <td>be honest did i miss the xrp boat last time i ...</td>\n",
       "      <td>honest miss xrp boat last time made money cryp...</td>\n",
       "      <td>Positive</td>\n",
       "    </tr>\n",
       "    <tr>\n",
       "      <th>1</th>\n",
       "      <td>310</td>\n",
       "      <td>1.719818e+09</td>\n",
       "      <td>2024-07-01</td>\n",
       "      <td>Convince me that Ripple (XRP) is not a Ponzi S...</td>\n",
       "      <td>convince me that ripple xrp is not a ponzi sch...</td>\n",
       "      <td>convince ripple xrp ponzi scheme big player cr...</td>\n",
       "      <td>Positive</td>\n",
       "    </tr>\n",
       "    <tr>\n",
       "      <th>2</th>\n",
       "      <td>1867</td>\n",
       "      <td>1.734628e+09</td>\n",
       "      <td>2024-12-19</td>\n",
       "      <td>$7 billion wiped from XRP in a day</td>\n",
       "      <td>billion wiped from xrp in a day</td>\n",
       "      <td>billion wiped xrp day</td>\n",
       "      <td>Positive</td>\n",
       "    </tr>\n",
       "    <tr>\n",
       "      <th>3</th>\n",
       "      <td>3486</td>\n",
       "      <td>1.689263e+09</td>\n",
       "      <td>2023-07-13</td>\n",
       "      <td>US judge just ruled XRP is not a security http...</td>\n",
       "      <td>us judge just ruled xrp is not a security \\n\\n...</td>\n",
       "      <td>u judge ruled xrp security u judge rule ripple...</td>\n",
       "      <td>Positive</td>\n",
       "    </tr>\n",
       "    <tr>\n",
       "      <th>4</th>\n",
       "      <td>668</td>\n",
       "      <td>1.740932e+09</td>\n",
       "      <td>2025-03-02</td>\n",
       "      <td>Crypto Strategic Reserve will include XRP, SOL...</td>\n",
       "      <td>crypto strategic reserve will include xrp sol ...</td>\n",
       "      <td>crypto strategic reserve include xrp sol ada</td>\n",
       "      <td>Positive</td>\n",
       "    </tr>\n",
       "  </tbody>\n",
       "</table>\n",
       "</div>"
      ],
      "text/plain": [
       "   score     timestamp        date  \\\n",
       "0    148  1.737167e+09  2025-01-18   \n",
       "1    310  1.719818e+09  2024-07-01   \n",
       "2   1867  1.734628e+09  2024-12-19   \n",
       "3   3486  1.689263e+09  2023-07-13   \n",
       "4    668  1.740932e+09  2025-03-02   \n",
       "\n",
       "                                                text  \\\n",
       "0  Be honest, did I miss the XRP boat? Last time ...   \n",
       "1  Convince me that Ripple (XRP) is not a Ponzi S...   \n",
       "2                $7 billion wiped from XRP in a day    \n",
       "3  US judge just ruled XRP is not a security http...   \n",
       "4  Crypto Strategic Reserve will include XRP, SOL...   \n",
       "\n",
       "                                          clean_text  \\\n",
       "0  be honest did i miss the xrp boat last time i ...   \n",
       "1  convince me that ripple xrp is not a ponzi sch...   \n",
       "2                   billion wiped from xrp in a day    \n",
       "3  us judge just ruled xrp is not a security \\n\\n...   \n",
       "4  crypto strategic reserve will include xrp sol ...   \n",
       "\n",
       "                                      processed_text sentiment  \n",
       "0  honest miss xrp boat last time made money cryp...  Positive  \n",
       "1  convince ripple xrp ponzi scheme big player cr...  Positive  \n",
       "2                              billion wiped xrp day  Positive  \n",
       "3  u judge ruled xrp security u judge rule ripple...  Positive  \n",
       "4       crypto strategic reserve include xrp sol ada  Positive  "
      ]
     },
     "execution_count": 10,
     "metadata": {},
     "output_type": "execute_result"
    }
   ],
   "source": [
    "df_new = pd.read_csv(\"/Users/charulagnihotri/Documents/projects/fintech_breakthrough/data/reddit_sentiment.csv\")\n",
    "\n",
    "df_new.head()"
   ]
  },
  {
   "cell_type": "code",
   "execution_count": 11,
   "metadata": {},
   "outputs": [
    {
     "data": {
      "text/html": [
       "<div>\n",
       "<style scoped>\n",
       "    .dataframe tbody tr th:only-of-type {\n",
       "        vertical-align: middle;\n",
       "    }\n",
       "\n",
       "    .dataframe tbody tr th {\n",
       "        vertical-align: top;\n",
       "    }\n",
       "\n",
       "    .dataframe thead th {\n",
       "        text-align: right;\n",
       "    }\n",
       "</style>\n",
       "<table border=\"1\" class=\"dataframe\">\n",
       "  <thead>\n",
       "    <tr style=\"text-align: right;\">\n",
       "      <th></th>\n",
       "      <th>score</th>\n",
       "      <th>timestamp</th>\n",
       "      <th>date</th>\n",
       "      <th>text</th>\n",
       "      <th>clean_text</th>\n",
       "      <th>processed_text</th>\n",
       "      <th>sentiment</th>\n",
       "    </tr>\n",
       "  </thead>\n",
       "  <tbody>\n",
       "    <tr>\n",
       "      <th>225</th>\n",
       "      <td>0</td>\n",
       "      <td>1.737932e+09</td>\n",
       "      <td>2025-01-26</td>\n",
       "      <td>Restake XRP for 6 months? I’ve just received a...</td>\n",
       "      <td>restake xrp for  months ive just received a de...</td>\n",
       "      <td>restake xrp month ive received decent amount i...</td>\n",
       "      <td>Neutral</td>\n",
       "    </tr>\n",
       "    <tr>\n",
       "      <th>226</th>\n",
       "      <td>117</td>\n",
       "      <td>1.609488e+09</td>\n",
       "      <td>2021-01-01</td>\n",
       "      <td>Who is buying xrp right now? I don't mean this...</td>\n",
       "      <td>who is buying xrp right now i dont mean this i...</td>\n",
       "      <td>buying xrp right dont mean sarcastic dickish w...</td>\n",
       "      <td>Positive</td>\n",
       "    </tr>\n",
       "    <tr>\n",
       "      <th>227</th>\n",
       "      <td>60</td>\n",
       "      <td>1.680454e+09</td>\n",
       "      <td>2023-04-02</td>\n",
       "      <td>Why are XRP and XLM on a tear lately? Maybe it...</td>\n",
       "      <td>why are xrp and xlm on a tear lately maybe its...</td>\n",
       "      <td>xrp xlm tear lately maybe due banking crisis m...</td>\n",
       "      <td>Positive</td>\n",
       "    </tr>\n",
       "    <tr>\n",
       "      <th>228</th>\n",
       "      <td>52</td>\n",
       "      <td>1.734468e+09</td>\n",
       "      <td>2024-12-17</td>\n",
       "      <td>Bloomberg analysts expect 'a wave of cryptocur...</td>\n",
       "      <td>bloomberg analysts expect a wave of cryptocurr...</td>\n",
       "      <td>bloomberg analyst expect wave cryptocurrency e...</td>\n",
       "      <td>Positive</td>\n",
       "    </tr>\n",
       "    <tr>\n",
       "      <th>229</th>\n",
       "      <td>3880</td>\n",
       "      <td>1.642285e+09</td>\n",
       "      <td>2022-01-15</td>\n",
       "      <td>Ripple is funding propaganda against Bitcoin b...</td>\n",
       "      <td>ripple is funding propaganda against bitcoin b...</td>\n",
       "      <td>ripple funding propaganda bitcoin teaming gove...</td>\n",
       "      <td>Positive</td>\n",
       "    </tr>\n",
       "  </tbody>\n",
       "</table>\n",
       "</div>"
      ],
      "text/plain": [
       "     score     timestamp        date  \\\n",
       "225      0  1.737932e+09  2025-01-26   \n",
       "226    117  1.609488e+09  2021-01-01   \n",
       "227     60  1.680454e+09  2023-04-02   \n",
       "228     52  1.734468e+09  2024-12-17   \n",
       "229   3880  1.642285e+09  2022-01-15   \n",
       "\n",
       "                                                  text  \\\n",
       "225  Restake XRP for 6 months? I’ve just received a...   \n",
       "226  Who is buying xrp right now? I don't mean this...   \n",
       "227  Why are XRP and XLM on a tear lately? Maybe it...   \n",
       "228  Bloomberg analysts expect 'a wave of cryptocur...   \n",
       "229  Ripple is funding propaganda against Bitcoin b...   \n",
       "\n",
       "                                            clean_text  \\\n",
       "225  restake xrp for  months ive just received a de...   \n",
       "226  who is buying xrp right now i dont mean this i...   \n",
       "227  why are xrp and xlm on a tear lately maybe its...   \n",
       "228  bloomberg analysts expect a wave of cryptocurr...   \n",
       "229  ripple is funding propaganda against bitcoin b...   \n",
       "\n",
       "                                        processed_text sentiment  \n",
       "225  restake xrp month ive received decent amount i...   Neutral  \n",
       "226  buying xrp right dont mean sarcastic dickish w...  Positive  \n",
       "227  xrp xlm tear lately maybe due banking crisis m...  Positive  \n",
       "228  bloomberg analyst expect wave cryptocurrency e...  Positive  \n",
       "229  ripple funding propaganda bitcoin teaming gove...  Positive  "
      ]
     },
     "execution_count": 11,
     "metadata": {},
     "output_type": "execute_result"
    }
   ],
   "source": [
    "df_new.tail()"
   ]
  }
 ],
 "metadata": {
  "kernelspec": {
   "display_name": "Python 3",
   "language": "python",
   "name": "python3"
  },
  "language_info": {
   "codemirror_mode": {
    "name": "ipython",
    "version": 3
   },
   "file_extension": ".py",
   "mimetype": "text/x-python",
   "name": "python",
   "nbconvert_exporter": "python",
   "pygments_lexer": "ipython3",
   "version": "3.12.4"
  }
 },
 "nbformat": 4,
 "nbformat_minor": 2
}
