{
 "cells": [
  {
   "cell_type": "code",
   "execution_count": 9,
   "metadata": {},
   "outputs": [],
   "source": [
    "from pycoingecko import CoinGeckoAPI\n",
    "import pandas as pd\n",
    "import time"
   ]
  },
  {
   "cell_type": "code",
   "execution_count": 11,
   "metadata": {},
   "outputs": [],
   "source": [
    "# Initialize CoinGecko API\n",
    "cg = CoinGeckoAPI()\n",
    "\n",
    "# Define parameters\n",
    "coin = \"ripple\"  # Change this to your target coin (e.g., \"bitcoin\", \"ethereum\", \"dogecoin\")\n",
    "currency = \"usd\"\n",
    "days = \"200\"  # Fetch last 200 days of data\n",
    "interval = \"daily\"  # Get daily data\n",
    "\n",
    "# Fetch historical prices\n",
    "crypto_prices = cg.get_coin_market_chart_by_id(id=coin, vs_currency=currency, days=days, interval=interval)"
   ]
  },
  {
   "cell_type": "code",
   "execution_count": 12,
   "metadata": {},
   "outputs": [
    {
     "name": "stdout",
     "output_type": "stream",
     "text": [
      "✅ Crypto prices saved to crypto_prices.csv\n"
     ]
    }
   ],
   "source": [
    "# Extract timestamps and prices\n",
    "timestamps = [entry[0] for entry in crypto_prices[\"prices\"]]\n",
    "prices = [entry[1] for entry in crypto_prices[\"prices\"]]\n",
    "\n",
    "# Convert timestamps to human-readable dates\n",
    "df_crypto = pd.DataFrame({\"timestamp\": timestamps, \"price\": prices})\n",
    "df_crypto[\"date\"] = pd.to_datetime(df_crypto[\"timestamp\"], unit=\"ms\")\n",
    "df_crypto.drop(columns=[\"timestamp\"], inplace=True)  # Drop raw timestamp column\n",
    "\n",
    "# Save to CSV\n",
    "df_crypto.to_csv(\"crypto_prices.csv\", index=False)\n",
    "print(\"✅ Crypto prices saved to crypto_prices.csv\")"
   ]
  },
  {
   "cell_type": "code",
   "execution_count": 13,
   "metadata": {},
   "outputs": [
    {
     "name": "stdout",
     "output_type": "stream",
     "text": [
      "✅ Merged dataset saved to crypto_sentiment_merged.csv\n"
     ]
    }
   ],
   "source": [
    "# Load sentiment data\n",
    "df_sentiment = pd.read_csv(\"/Users/charulagnihotri/Documents/projects/fintech_breakthrough/data/reddit_sentiment.csv\")\n",
    "\n",
    "# Convert dates to proper format\n",
    "df_sentiment[\"date\"] = pd.to_datetime(df_sentiment[\"date\"])\n",
    "\n",
    "# Merge sentiment scores with crypto prices\n",
    "df_final = pd.merge(df_crypto, df_sentiment, on=\"date\", how=\"inner\")\n",
    "\n",
    "# Save merged dataset\n",
    "df_final.to_csv(\"crypto_sentiment_merged.csv\", index=False)\n",
    "print(\"✅ Merged dataset saved to crypto_sentiment_merged.csv\")"
   ]
  },
  {
   "cell_type": "code",
   "execution_count": 14,
   "metadata": {},
   "outputs": [
    {
     "name": "stdout",
     "output_type": "stream",
     "text": [
      "98\n"
     ]
    }
   ],
   "source": [
    "print(len(df_final))"
   ]
  }
 ],
 "metadata": {
  "kernelspec": {
   "display_name": "Python 3",
   "language": "python",
   "name": "python3"
  },
  "language_info": {
   "codemirror_mode": {
    "name": "ipython",
    "version": 3
   },
   "file_extension": ".py",
   "mimetype": "text/x-python",
   "name": "python",
   "nbconvert_exporter": "python",
   "pygments_lexer": "ipython3",
   "version": "3.12.4"
  }
 },
 "nbformat": 4,
 "nbformat_minor": 2
}
