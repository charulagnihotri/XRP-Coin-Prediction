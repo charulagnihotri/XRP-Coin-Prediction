{
 "cells": [
  {
   "cell_type": "code",
   "execution_count": 22,
   "metadata": {},
   "outputs": [],
   "source": [
    "df = pd.read_csv(\"/Users/charulagnihotri/Documents/projects/fintech_breakthrough/data/reddit_posts_raw.csv\")"
   ]
  },
  {
   "cell_type": "code",
   "execution_count": 23,
   "metadata": {},
   "outputs": [
    {
     "name": "stdout",
     "output_type": "stream",
     "text": [
      "                                               title  \\\n",
      "0                Be honest, did I miss the XRP boat?   \n",
      "1  Convince me that Ripple (XRP) is not a Ponzi S...   \n",
      "2                 $7 billion wiped from XRP in a day   \n",
      "3          US judge just ruled XRP is not a security   \n",
      "4  Crypto Strategic Reserve will include XRP, SOL...   \n",
      "\n",
      "                                             content  score     timestamp  \\\n",
      "0  Last time I made money in crypto I grew $8K in...    148  1.737167e+09   \n",
      "1  Out of all the big players in the crypto lands...    310  1.719818e+09   \n",
      "2                                                NaN   1867  1.734628e+09   \n",
      "3  https://twitter.com/WatcherGuru/status/1679514...   3486  1.689263e+09   \n",
      "4                                                NaN    668  1.740932e+09   \n",
      "\n",
      "         date  \n",
      "0  2025-01-18  \n",
      "1  2024-07-01  \n",
      "2  2024-12-19  \n",
      "3  2023-07-13  \n",
      "4  2025-03-02  \n"
     ]
    }
   ],
   "source": [
    "print(df.head()) #check the first 5 rows"
   ]
  },
  {
   "cell_type": "code",
   "execution_count": 24,
   "metadata": {},
   "outputs": [
    {
     "name": "stdout",
     "output_type": "stream",
     "text": [
      "title          0\n",
      "content      141\n",
      "score          0\n",
      "timestamp      0\n",
      "date           0\n",
      "dtype: int64\n"
     ]
    }
   ],
   "source": [
    "print(df.isnull().sum()) #to check for missing values"
   ]
  },
  {
   "cell_type": "code",
   "execution_count": 25,
   "metadata": {},
   "outputs": [
    {
     "name": "stderr",
     "output_type": "stream",
     "text": [
      "/var/folders/hh/bb1k1l2j6w58bkgff6_mt1km0000gn/T/ipykernel_64446/2632759067.py:1: FutureWarning: A value is trying to be set on a copy of a DataFrame or Series through chained assignment using an inplace method.\n",
      "The behavior will change in pandas 3.0. This inplace method will never work because the intermediate object on which we are setting values always behaves as a copy.\n",
      "\n",
      "For example, when doing 'df[col].method(value, inplace=True)', try using 'df.method({col: value}, inplace=True)' or df[col] = df[col].method(value) instead, to perform the operation inplace on the original object.\n",
      "\n",
      "\n",
      "  df[\"content\"].fillna(\"\", inplace=True)  #treating 141 missing values\n"
     ]
    }
   ],
   "source": [
    "df[\"content\"].fillna(\"\", inplace=True)  #treating 141 missing values"
   ]
  },
  {
   "cell_type": "code",
   "execution_count": 26,
   "metadata": {},
   "outputs": [
    {
     "name": "stdout",
     "output_type": "stream",
     "text": [
      "title        0\n",
      "content      0\n",
      "score        0\n",
      "timestamp    0\n",
      "date         0\n",
      "dtype: int64\n"
     ]
    }
   ],
   "source": [
    "print(df.isnull().sum())"
   ]
  },
  {
   "cell_type": "code",
   "execution_count": 27,
   "metadata": {},
   "outputs": [
    {
     "data": {
      "text/plain": [
       "Index(['title', 'content', 'score', 'timestamp', 'date'], dtype='object')"
      ]
     },
     "execution_count": 27,
     "metadata": {},
     "output_type": "execute_result"
    }
   ],
   "source": [
    "df.columns "
   ]
  },
  {
   "cell_type": "code",
   "execution_count": 28,
   "metadata": {},
   "outputs": [],
   "source": [
    "df[\"text\"] = df[\"title\"] + \" \" + df[\"content\"] #merge title and body into a single column"
   ]
  },
  {
   "cell_type": "code",
   "execution_count": 29,
   "metadata": {},
   "outputs": [],
   "source": [
    "df = df.drop(columns=[\"title\", \"content\"])  # Drop the old columns #dropped the old columns"
   ]
  },
  {
   "cell_type": "code",
   "execution_count": 30,
   "metadata": {},
   "outputs": [],
   "source": [
    "import re\n",
    "\n",
    "def clean_text(text):\n",
    "    text = text.lower()  # Convert to lowercase\n",
    "    text = re.sub(r\"http\\S+|www\\S+|https\\S+\", \"\", text, flags=re.MULTILINE)  # Remove links\n",
    "    text = re.sub(r\"\\d+\", \"\", text)  # Remove numbers\n",
    "    text = re.sub(r\"[^\\w\\s]\", \"\", text)  # Remove punctuation\n",
    "    return text\n",
    "\n",
    "df[\"clean_text\"] = df[\"text\"].apply(clean_text)"
   ]
  },
  {
   "cell_type": "code",
   "execution_count": 31,
   "metadata": {},
   "outputs": [
    {
     "name": "stderr",
     "output_type": "stream",
     "text": [
      "[nltk_data] Error loading stopwords: <urlopen error [SSL:\n",
      "[nltk_data]     CERTIFICATE_VERIFY_FAILED] certificate verify failed:\n",
      "[nltk_data]     unable to get local issuer certificate (_ssl.c:1000)>\n",
      "[nltk_data] Error loading punkt: <urlopen error [SSL:\n",
      "[nltk_data]     CERTIFICATE_VERIFY_FAILED] certificate verify failed:\n",
      "[nltk_data]     unable to get local issuer certificate (_ssl.c:1000)>\n",
      "[nltk_data] Error loading wordnet: <urlopen error [SSL:\n",
      "[nltk_data]     CERTIFICATE_VERIFY_FAILED] certificate verify failed:\n",
      "[nltk_data]     unable to get local issuer certificate (_ssl.c:1000)>\n"
     ]
    },
    {
     "data": {
      "text/plain": [
       "False"
      ]
     },
     "execution_count": 31,
     "metadata": {},
     "output_type": "execute_result"
    }
   ],
   "source": [
    "import nltk\n",
    "\n",
    "nltk.download(\"stopwords\")  # Stopwords for filtering common words\n",
    "nltk.download(\"punkt\")  # Tokenization\n",
    "nltk.download(\"wordnet\")  # Lemmatization"
   ]
  },
  {
   "cell_type": "code",
   "execution_count": 32,
   "metadata": {},
   "outputs": [
    {
     "name": "stderr",
     "output_type": "stream",
     "text": [
      "[nltk_data] Error loading stopwords: <urlopen error [SSL:\n",
      "[nltk_data]     CERTIFICATE_VERIFY_FAILED] certificate verify failed:\n",
      "[nltk_data]     unable to get local issuer certificate (_ssl.c:1000)>\n",
      "[nltk_data] Error loading punkt: <urlopen error [SSL:\n",
      "[nltk_data]     CERTIFICATE_VERIFY_FAILED] certificate verify failed:\n",
      "[nltk_data]     unable to get local issuer certificate (_ssl.c:1000)>\n",
      "[nltk_data] Error loading wordnet: <urlopen error [SSL:\n",
      "[nltk_data]     CERTIFICATE_VERIFY_FAILED] certificate verify failed:\n",
      "[nltk_data]     unable to get local issuer certificate (_ssl.c:1000)>\n"
     ]
    }
   ],
   "source": [
    "import nltk\n",
    "from nltk.corpus import stopwords\n",
    "from nltk.tokenize import word_tokenize\n",
    "from nltk.stem import WordNetLemmatizer\n",
    "\n",
    "nltk.download(\"stopwords\")\n",
    "nltk.download(\"punkt\")\n",
    "nltk.download(\"wordnet\")\n",
    "\n",
    "stop_words = set(stopwords.words(\"english\"))\n",
    "lemmatizer = WordNetLemmatizer()\n",
    "\n",
    "def preprocess_text(text):\n",
    "    words = word_tokenize(text)  # Tokenization\n",
    "    words = [word for word in words if word not in stop_words]  # Remove stopwords\n",
    "    words = [lemmatizer.lemmatize(word) for word in words]  # Lemmatization\n",
    "    return \" \".join(words)\n",
    "\n",
    "df[\"processed_text\"] = df[\"clean_text\"].apply(preprocess_text)"
   ]
  },
  {
   "cell_type": "code",
   "execution_count": 33,
   "metadata": {},
   "outputs": [
    {
     "name": "stdout",
     "output_type": "stream",
     "text": [
      "Preprocessed data saved to reddit_cleaned.csv\n"
     ]
    }
   ],
   "source": [
    "df.to_csv(\"reddit_cleaned.csv\", index=False)\n",
    "print(\"Preprocessed data saved to reddit_cleaned.csv\")"
   ]
  },
  {
   "cell_type": "code",
   "execution_count": 34,
   "metadata": {},
   "outputs": [
    {
     "name": "stdout",
     "output_type": "stream",
     "text": [
      "230\n"
     ]
    }
   ],
   "source": [
    "print(len(df))"
   ]
  },
  {
   "cell_type": "code",
   "execution_count": 3,
   "metadata": {},
   "outputs": [],
   "source": [
    "df_new= pd.read_csv(\"/Users/charulagnihotri/Documents/projects/fintech_breakthrough/data/reddit_cleaned.csv\")"
   ]
  },
  {
   "cell_type": "code",
   "execution_count": 5,
   "metadata": {},
   "outputs": [
    {
     "data": {
      "text/html": [
       "<div>\n",
       "<style scoped>\n",
       "    .dataframe tbody tr th:only-of-type {\n",
       "        vertical-align: middle;\n",
       "    }\n",
       "\n",
       "    .dataframe tbody tr th {\n",
       "        vertical-align: top;\n",
       "    }\n",
       "\n",
       "    .dataframe thead th {\n",
       "        text-align: right;\n",
       "    }\n",
       "</style>\n",
       "<table border=\"1\" class=\"dataframe\">\n",
       "  <thead>\n",
       "    <tr style=\"text-align: right;\">\n",
       "      <th></th>\n",
       "      <th>score</th>\n",
       "      <th>timestamp</th>\n",
       "      <th>date</th>\n",
       "      <th>text</th>\n",
       "      <th>clean_text</th>\n",
       "      <th>processed_text</th>\n",
       "    </tr>\n",
       "  </thead>\n",
       "  <tbody>\n",
       "    <tr>\n",
       "      <th>0</th>\n",
       "      <td>148</td>\n",
       "      <td>1.737167e+09</td>\n",
       "      <td>2025-01-18</td>\n",
       "      <td>Be honest, did I miss the XRP boat? Last time ...</td>\n",
       "      <td>be honest did i miss the xrp boat last time i ...</td>\n",
       "      <td>honest miss xrp boat last time made money cryp...</td>\n",
       "    </tr>\n",
       "    <tr>\n",
       "      <th>1</th>\n",
       "      <td>310</td>\n",
       "      <td>1.719818e+09</td>\n",
       "      <td>2024-07-01</td>\n",
       "      <td>Convince me that Ripple (XRP) is not a Ponzi S...</td>\n",
       "      <td>convince me that ripple xrp is not a ponzi sch...</td>\n",
       "      <td>convince ripple xrp ponzi scheme big player cr...</td>\n",
       "    </tr>\n",
       "    <tr>\n",
       "      <th>2</th>\n",
       "      <td>1867</td>\n",
       "      <td>1.734628e+09</td>\n",
       "      <td>2024-12-19</td>\n",
       "      <td>$7 billion wiped from XRP in a day</td>\n",
       "      <td>billion wiped from xrp in a day</td>\n",
       "      <td>billion wiped xrp day</td>\n",
       "    </tr>\n",
       "    <tr>\n",
       "      <th>3</th>\n",
       "      <td>3486</td>\n",
       "      <td>1.689263e+09</td>\n",
       "      <td>2023-07-13</td>\n",
       "      <td>US judge just ruled XRP is not a security http...</td>\n",
       "      <td>us judge just ruled xrp is not a security \\n\\n...</td>\n",
       "      <td>u judge ruled xrp security u judge rule ripple...</td>\n",
       "    </tr>\n",
       "    <tr>\n",
       "      <th>4</th>\n",
       "      <td>668</td>\n",
       "      <td>1.740932e+09</td>\n",
       "      <td>2025-03-02</td>\n",
       "      <td>Crypto Strategic Reserve will include XRP, SOL...</td>\n",
       "      <td>crypto strategic reserve will include xrp sol ...</td>\n",
       "      <td>crypto strategic reserve include xrp sol ada</td>\n",
       "    </tr>\n",
       "  </tbody>\n",
       "</table>\n",
       "</div>"
      ],
      "text/plain": [
       "   score     timestamp        date  \\\n",
       "0    148  1.737167e+09  2025-01-18   \n",
       "1    310  1.719818e+09  2024-07-01   \n",
       "2   1867  1.734628e+09  2024-12-19   \n",
       "3   3486  1.689263e+09  2023-07-13   \n",
       "4    668  1.740932e+09  2025-03-02   \n",
       "\n",
       "                                                text  \\\n",
       "0  Be honest, did I miss the XRP boat? Last time ...   \n",
       "1  Convince me that Ripple (XRP) is not a Ponzi S...   \n",
       "2                $7 billion wiped from XRP in a day    \n",
       "3  US judge just ruled XRP is not a security http...   \n",
       "4  Crypto Strategic Reserve will include XRP, SOL...   \n",
       "\n",
       "                                          clean_text  \\\n",
       "0  be honest did i miss the xrp boat last time i ...   \n",
       "1  convince me that ripple xrp is not a ponzi sch...   \n",
       "2                   billion wiped from xrp in a day    \n",
       "3  us judge just ruled xrp is not a security \\n\\n...   \n",
       "4  crypto strategic reserve will include xrp sol ...   \n",
       "\n",
       "                                      processed_text  \n",
       "0  honest miss xrp boat last time made money cryp...  \n",
       "1  convince ripple xrp ponzi scheme big player cr...  \n",
       "2                              billion wiped xrp day  \n",
       "3  u judge ruled xrp security u judge rule ripple...  \n",
       "4       crypto strategic reserve include xrp sol ada  "
      ]
     },
     "execution_count": 5,
     "metadata": {},
     "output_type": "execute_result"
    }
   ],
   "source": [
    "df_new.head()"
   ]
  },
  {
   "cell_type": "code",
   "execution_count": 1,
   "metadata": {},
   "outputs": [
    {
     "name": "stdout",
     "output_type": "stream",
     "text": [
      "[NbConvertApp] Converting notebook eda.ipynb to script\n",
      "[NbConvertApp] Writing 2132 bytes to eda.py\n"
     ]
    }
   ],
   "source": [
    "!jupyter nbconvert --to script eda.ipynb"
   ]
  },
  {
   "cell_type": "code",
   "execution_count": null,
   "metadata": {},
   "outputs": [],
   "source": []
  }
 ],
 "metadata": {
  "kernelspec": {
   "display_name": "Python 3 (ipykernel)",
   "language": "python",
   "name": "python3"
  },
  "language_info": {
   "codemirror_mode": {
    "name": "ipython",
    "version": 3
   },
   "file_extension": ".py",
   "mimetype": "text/x-python",
   "name": "python",
   "nbconvert_exporter": "python",
   "pygments_lexer": "ipython3",
   "version": "3.12.4"
  }
 },
 "nbformat": 4,
 "nbformat_minor": 4
}
